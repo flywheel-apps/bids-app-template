{
 "cells": [
  {
   "cell_type": "markdown",
   "metadata": {},
   "source": [
    "# Copy an analysis job from a Flywheel Instance"
   ]
  },
  {
   "cell_type": "markdown",
   "metadata": {},
   "source": [
    "Given the ID of a Flywheel job, this will create a python script to re-run it.  You can then edit and run that script.\n",
    "\n",
    "The cell below will get a Flywheel client if you are logged in to a Flywheel instance.  It prints out the URL of the instance so you know where you are logged in."
   ]
  },
  {
   "cell_type": "code",
   "execution_count": 95,
   "metadata": {},
   "outputs": [
    {
     "name": "stderr",
     "output_type": "stream",
     "text": [
      "WARNING:Flywheel:Use \"pip install flywheel-sdk~=15.1.4\" to install a compatible version for this server\n"
     ]
    },
    {
     "data": {
      "text/plain": [
       "'https://ss.ce.flywheel.io/api'"
      ]
     },
     "execution_count": 95,
     "metadata": {},
     "output_type": "execute_result"
    }
   ],
   "source": [
    "import os\n",
    "import stat\n",
    "import pprint\n",
    "from datetime import datetime\n",
    "\n",
    "import flywheel\n",
    "fw = flywheel.Client('')\n",
    "fw.get_config().site.api_url"
   ]
  },
  {
   "cell_type": "code",
   "execution_count": 194,
   "metadata": {},
   "outputs": [],
   "source": [
    "def write_script_to_run_job(job_id):\n",
    "    \n",
    "    job = fw.get_job(job_id)\n",
    "    gear = fw.get_gear(job.gear_id)\n",
    "    print(f\"gear.gear.name is {gear.gear.name}\")\n",
    "    destination_id = job.config[\"destination\"][\"id\"]\n",
    "    print(f\"job's analysis destination_id is {destination_id}\")\n",
    "    analysis = fw.get_analysis(destination_id)\n",
    "    print(f\"job's analysis's parent's type is {analysis.parent['type']}\")\n",
    "    project_id = analysis.parents[\"project\"]\n",
    "    project = fw.get_project(project_id)\n",
    "    project_label = project.label\n",
    "    print(f\"Project label: {project.label}\")\n",
    "    destination = fw.get(analysis.parent[\"id\"])\n",
    "    print(f\"job's destination is {destination.label}\")\n",
    "    script_name = f\"{project_label}_{analysis.parent['type']}_{destination.label}.py\"\n",
    "    print(f\"Creating script: {script_name} ...\\n\")\n",
    "    \n",
    "    input_files = dict()\n",
    "    for key, val in job.config[\"inputs\"].items():\n",
    "        file_name = val[\"location\"][\"name\"]\n",
    "        input_files[key] = file_name\n",
    "\n",
    "    lines = f\"\"\"#! /usr/bin/env python3\n",
    "'''Run {gear.gear.name} on {analysis.parent['type']} \"{destination.label}\"'''\n",
    "\n",
    "import os\n",
    "import argparse\n",
    "from datetime import datetime\n",
    "\n",
    "\n",
    "import flywheel\n",
    "\n",
    "\n",
    "def main():\n",
    "\n",
    "    fw = flywheel.Client('')\n",
    "    print(fw.get_config().site.api_url)\n",
    "\n",
    "    gear = fw.lookup(\"gears/{gear.gear.name}\")\n",
    "    print(\"gear.gear.version for job was = {gear.gear.version}\")\"\"\"\n",
    "\n",
    "    with open(script_name, \"w\") as sfp:\n",
    "        for line in lines.split(\"\\n\"):\n",
    "            sfp.write(line + \"\\n\")\n",
    "        sfp.write(\"    print(f\\\"gear.gear.version now = {gear.gear.version}\\\")\\n\")\n",
    "        sfp.write(f\"    print(\\\"destination_id = {analysis.parent['id']}\\\")\\n\")\n",
    "        sfp.write(f\"    print(\\\"destination type is: {analysis.parent['type']}\\\")\\n\")\n",
    "        sfp.write(f\"    destination = fw.get(\\\"{analysis.parent['id']}\\\")\\n\")\n",
    "        sfp.write(\"\\n\")\n",
    "        sfp.write(f\"    project = fw.get_project(\\\"{project_id}\\\")\\n\")\n",
    "        sfp.write(\"    inputs = dict()\\n\")\n",
    "        sfp.write(f\"    for key, val in {input_files}.items():\\n\")\n",
    "        sfp.write(\"        inputs[key] = project.get_file(val)\\n\")\n",
    "        sfp.write(\"\\n\")\n",
    "        sfp.write(f\"    config = {pprint.pformat(job['config']['config'], indent=4)}\\n\")\n",
    "        sfp.write(\"\\n\")\n",
    "        sfp.write(\"    now = datetime.now()\\n\")\n",
    "        sfp.write(\"    analysis_label = (\\n\")\n",
    "        sfp.write(\"        f'{gear.gear.name} {now.strftime(\\\"%m-%d-%Y %H:%M:%S\\\")} SDK launched'\\n\")\n",
    "        sfp.write(\"    )\\n\")\n",
    "        sfp.write(\"    print(f\\\"analysis_label = {analysis_label}\\\")\\n\")\n",
    "        sfp.write(\"\\n\")\n",
    "        sfp.write(\"    analysis_id = gear.run(\\n\")\n",
    "        sfp.write(\"        analysis_label=analysis_label,\\n\")\n",
    "        sfp.write(\"        config=config,\\n\")\n",
    "        sfp.write(\"        inputs=inputs,\\n\")\n",
    "        sfp.write(\"        destination=destination,\\n\")\n",
    "        sfp.write(\"    )\\n\")\n",
    "        sfp.write(\"    return analysis_id\\n\")\n",
    "        sfp.write(\"\\n\")\n",
    "        sfp.write(\"\\n\")\n",
    "        sfp.write(\"if __name__ == '__main__':\\n\")\n",
    "        sfp.write(\"\\n\")\n",
    "        sfp.write(\"    parser = argparse.ArgumentParser(description=__doc__)\\n\")\n",
    "        sfp.write(\"    args = parser.parse_args()\\n\")\n",
    "        sfp.write(\"\\n\")\n",
    "        sfp.write(\"    analysis_id = main()\\n\")\n",
    "        sfp.write(\"\\n\")\n",
    "        sfp.write(\"    print(f\\\"analysis_id = {analysis_id}\\\")\\n\")\n",
    "        sfp.write(\"\\n\")\n",
    "        sfp.write(\"    os.sys.exit(0)\\n\")\n",
    "\n",
    "    os.system(f\"black {script_name}\")\n",
    "\n",
    "    st = os.stat(script_name)\n",
    "    os.chmod(script_name, st.st_mode | stat.S_IEXEC)"
   ]
  },
  {
   "cell_type": "markdown",
   "metadata": {},
   "source": [
    "Get the job ID from the URL when you select the job of interest in the \"Jobs Log\" in the Flywheel UI."
   ]
  },
  {
   "cell_type": "code",
   "execution_count": 195,
   "metadata": {},
   "outputs": [
    {
     "name": "stdout",
     "output_type": "stream",
     "text": [
      "gear.gear.name is bids-app-template\n",
      "job's analysis destination_id is 601c74110533ee34c0708d3d\n",
      "job's analysis's parent's type is session\n",
      "Project label: BIDS_multi_session\n",
      "job's destination is ses-Session2\n",
      "Creating script: BIDS_multi_session_session_ses-Session2.py ...\n",
      "\n"
     ]
    }
   ],
   "source": [
    "write_script_to_run_job(\"601c74110533ee34c0708d3e\")"
   ]
  },
  {
   "cell_type": "code",
   "execution_count": 196,
   "metadata": {},
   "outputs": [
    {
     "name": "stdout",
     "output_type": "stream",
     "text": [
      "gear.gear.name is bids-app-template\n",
      "job's analysis destination_id is 601c24590533ee34c06fdda2\n",
      "job's analysis's parent's type is session\n",
      "Project label: BIDS_multi_session\n",
      "job's destination is ses-Session1\n",
      "Creating script: BIDS_multi_session_session_ses-Session1.py ...\n",
      "\n"
     ]
    }
   ],
   "source": [
    "write_script_to_run_job(\"601c24590533ee34c06fdda3\")"
   ]
  },
  {
   "cell_type": "code",
   "execution_count": 154,
   "metadata": {},
   "outputs": [
    {
     "data": {
      "text/plain": [
       "'0.0.0_0.14.0'"
      ]
     },
     "execution_count": 154,
     "metadata": {},
     "output_type": "execute_result"
    }
   ],
   "source": [
    "gear = fw.lookup(\"gears/bids-app-template\")\n",
    "gear.gear.version"
   ]
  },
  {
   "cell_type": "code",
   "execution_count": 135,
   "metadata": {},
   "outputs": [
    {
     "name": "stdout",
     "output_type": "stream",
     "text": [
      "license.txt\n"
     ]
    }
   ],
   "source": [
    "job = fw.get_job(\"601c24590533ee34c06fdda3\")\n",
    "for key, val in job.config[\"inputs\"].items():\n",
    "    file_name = val[\"location\"][\"name\"]\n",
    "    print(file_name)"
   ]
  },
  {
   "cell_type": "code",
   "execution_count": 125,
   "metadata": {},
   "outputs": [
    {
     "data": {
      "text/plain": [
       "{'classification': {},\n",
       " 'created': datetime.datetime(2019, 11, 22, 16, 39, 28, 610000, tzinfo=tzutc()),\n",
       " 'deid_log_id': None,\n",
       " 'hash': 'v0-sha384-4fb1e82ab91d0dc4e68aef2e091a1e854aaf67a6dd8e5a8ea8500f1ad65467dc625d46fea757acfcb3e9e3f1d0fb5dc6',\n",
       " 'id': '21d79e68-561d-4fe2-9ae9-e4e6576f3d71',\n",
       " 'info': {'BIDS': {'Filename': '',\n",
       "                   'Folder': '',\n",
       "                   'Path': '',\n",
       "                   'error_message': \"Filename '' is too short\",\n",
       "                   'ignore': False,\n",
       "                   'template': 'project_file',\n",
       "                   'valid': False}},\n",
       " 'info_exists': True,\n",
       " 'mimetype': 'text/plain',\n",
       " 'modality': None,\n",
       " 'modified': datetime.datetime(2019, 11, 22, 16, 39, 28, 170000, tzinfo=tzutc()),\n",
       " 'name': 'license.txt',\n",
       " 'origin': {'id': 'andyworth@flywheel.io',\n",
       "            'method': None,\n",
       "            'name': None,\n",
       "            'type': 'user',\n",
       "            'via': None},\n",
       " 'replaced': None,\n",
       " 'size': 58,\n",
       " 'tags': [],\n",
       " 'type': 'text',\n",
       " 'zip_member_count': None}"
      ]
     },
     "execution_count": 125,
     "metadata": {},
     "output_type": "execute_result"
    }
   ],
   "source": [
    "input_object = project.get_file('license.txt')\n",
    "input_object"
   ]
  },
  {
   "cell_type": "code",
   "execution_count": 126,
   "metadata": {},
   "outputs": [
    {
     "data": {
      "text/plain": [
       "<bound method FileMixin.ref of {'classification': {},\n",
       " 'created': datetime.datetime(2019, 11, 22, 16, 39, 28, 610000, tzinfo=tzutc()),\n",
       " 'deid_log_id': None,\n",
       " 'hash': 'v0-sha384-4fb1e82ab91d0dc4e68aef2e091a1e854aaf67a6dd8e5a8ea8500f1ad65467dc625d46fea757acfcb3e9e3f1d0fb5dc6',\n",
       " 'id': '21d79e68-561d-4fe2-9ae9-e4e6576f3d71',\n",
       " 'info': {'BIDS': {'Filename': '',\n",
       "                   'Folder': '',\n",
       "                   'Path': '',\n",
       "                   'error_message': \"Filename '' is too short\",\n",
       "                   'ignore': False,\n",
       "                   'template': 'project_file',\n",
       "                   'valid': False}},\n",
       " 'info_exists': True,\n",
       " 'mimetype': 'text/plain',\n",
       " 'modality': None,\n",
       " 'modified': datetime.datetime(2019, 11, 22, 16, 39, 28, 170000, tzinfo=tzutc()),\n",
       " 'name': 'license.txt',\n",
       " 'origin': {'id': 'andyworth@flywheel.io',\n",
       "            'method': None,\n",
       "            'name': None,\n",
       "            'type': 'user',\n",
       "            'via': None},\n",
       " 'replaced': None,\n",
       " 'size': 58,\n",
       " 'tags': [],\n",
       " 'type': 'text',\n",
       " 'zip_member_count': None}>"
      ]
     },
     "execution_count": 126,
     "metadata": {},
     "output_type": "execute_result"
    }
   ],
   "source": [
    "input_object.ref"
   ]
  }
 ],
 "metadata": {
  "kernelspec": {
   "display_name": "Python 3",
   "language": "python",
   "name": "python3"
  },
  "language_info": {
   "codemirror_mode": {
    "name": "ipython",
    "version": 3
   },
   "file_extension": ".py",
   "mimetype": "text/x-python",
   "name": "python",
   "nbconvert_exporter": "python",
   "pygments_lexer": "ipython3",
   "version": "3.9.0"
  }
 },
 "nbformat": 4,
 "nbformat_minor": 4
}
