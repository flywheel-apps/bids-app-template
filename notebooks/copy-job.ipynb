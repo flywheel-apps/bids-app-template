{
 "cells": [
  {
   "cell_type": "markdown",
   "metadata": {},
   "source": [
    "# Copy an analysis job from a Flywheel Instance"
   ]
  },
  {
   "cell_type": "markdown",
   "metadata": {},
   "source": [
    "Given the ID of a Flywheel job, this will create a python script to re-run it.  You can then edit and run that script.\n",
    "\n",
    "The cell below will get a Flywheel client if you are logged in to a Flywheel instance.  It prints out the URL of the instance so you know where you are logged in."
   ]
  },
  {
   "cell_type": "code",
   "execution_count": 1,
   "metadata": {},
   "outputs": [],
   "source": [
    "import argparse\n",
    "import os\n",
    "import pprint\n",
    "import stat\n",
    "\n",
    "import flywheel"
   ]
  },
  {
   "cell_type": "code",
   "execution_count": 2,
   "metadata": {},
   "outputs": [
    {
     "name": "stderr",
     "output_type": "stream",
     "text": [
      "/usr/local/lib/python3.9/site-packages/flywheel/flywheel.py:6274: UserWarning: Client version 15.3.1 does not match server version 14.6.2. Please update your client version!\n",
      "  warnings.warn('Client version {} does not match server version {}. Please update your client version!'.format(SDK_VERSION, release_version))\n",
      "WARNING:Flywheel:Use \"pip install flywheel-sdk~=14.6.3\" to install a compatible version for this server\n"
     ]
    },
    {
     "name": "stdout",
     "output_type": "stream",
     "text": [
      "Flywheel Instance https://rollout.ce.flywheel.io/api\n"
     ]
    }
   ],
   "source": [
    "fw = flywheel.Client(\"\")\n",
    "print(\"Flywheel Instance\", fw.get_config().site.api_url)"
   ]
  },
  {
   "cell_type": "markdown",
   "metadata": {},
   "source": [
    "Get the job ID from the URL when you select the job of interest in the \"Jobs Log\" in the Flywheel UI."
   ]
  },
  {
   "cell_type": "markdown",
   "metadata": {},
   "source": [
    "Create a python script to re-run a job given the job ID for a gear that was run on Flywheel."
   ]
  },
  {
   "cell_type": "code",
   "execution_count": 24,
   "metadata": {},
   "outputs": [],
   "source": [
    "def write_script_to_run_job(job_id=None, analysis_id=None):\n",
    "\n",
    "    analysis = None\n",
    "    if analysis_id:\n",
    "        analysis = fw.get_analysis(analysis_id)\n",
    "        print(f\"Getting job_id from analysis '{analysis.label}'\")\n",
    "        job_id = analysis.job.id\n",
    "    elif job_id == None:\n",
    "        print(f\"Must provide either job_id or analysis_id.\")\n",
    "        os.sys.exit(1)\n",
    "\n",
    "    print(\"Job ID\", job_id)\n",
    "    job = fw.get_job(job_id)\n",
    "    gear = fw.get_gear(job.gear_id)\n",
    "    print(f\"gear.gear.name is {gear.gear.name}\")\n",
    "    destination_id = job.destination.id\n",
    "    destination_type = job.destination.type\n",
    "    print(f\"job's destination_id is {destination_id} type {destination_type}\")\n",
    "\n",
    "    if job.destination.type == \"analysis\":\n",
    "        analysis = fw.get_analysis(destination_id)\n",
    "        destination_id = analysis.parent.id\n",
    "        destination_type = analysis.parent.type\n",
    "        print(f\"job's analysis's parent id is {destination_id} type {destination_type}\")\n",
    "\n",
    "    destination = fw.get(destination_id)\n",
    "    destination_label = destination.label\n",
    "    print(f\"new job's destination is {destination_label} type {destination_type}\")\n",
    "\n",
    "    group_id = destination.parents.group\n",
    "    print(f\"Group id: {group_id}\")\n",
    "\n",
    "    if destination_type == \"project\":\n",
    "        project = destination\n",
    "    else:\n",
    "        project = fw.get_project(destination.parents.project)\n",
    "    project_label = project.label\n",
    "    print(f\"Project label: {project.label}\")\n",
    "\n",
    "    script_name = f\"{project_label}_{destination_type}_{destination.label}.py\"\n",
    "    script_name = script_name.replace(\" \", \"_\")\n",
    "\n",
    "    container_path = \"Invalid\"\n",
    "\n",
    "    if destination_type == \"project\":\n",
    "        container_path = f\"{group_id}/{project_label}\"\n",
    "\n",
    "    elif destination_type == \"subject\":\n",
    "        container_path = f\"{group_id}/{project_label}/{destination.label}\"\n",
    "\n",
    "    elif destination_type == \"session\":\n",
    "        container_path = (\n",
    "            f\"{group_id}/{project_label}/{destination.subject.label}/\"\n",
    "            + f\"{destination.label}\"\n",
    "        )\n",
    "\n",
    "    elif destination_type == \"acquisition\":\n",
    "        subject = fw.get_subject(destination.parents.subject)\n",
    "        session = fw.get_session(destination.parents.session)\n",
    "        container_path = (\n",
    "            f\"{group_id}/{project_label}/{subject.label}/{session.label}/\"\n",
    "            + f\"{destination.label}\"\n",
    "        )\n",
    "\n",
    "    else:\n",
    "        print(f\"Error: unknown destination type {destination_type}\")\n",
    "\n",
    "    print(f\"container_path: {container_path}\")\n",
    "    print(f\"Creating script: {script_name} ...\\n\")\n",
    "    \n",
    "    input_files = dict()\n",
    "    for key, val in job.config.get(\"inputs\").items():\n",
    "        if \"hierarchy\" in val:\n",
    "            input_files[key] = {\n",
    "                \"hierarchy_id\": val[\"hierarchy\"][\"id\"],\n",
    "                \"location_name\": val[\"location\"][\"name\"],\n",
    "            }\n",
    "\n",
    "    lines = f\"\"\"#! /usr/bin/env python3\n",
    "'''Run {gear.gear.name} on {destination_type} \"{destination.label}\"\n",
    "\n",
    "    This script was created to run Job ID {job_id}\n",
    "    In project \"{group_id}/{project_label}\"\n",
    "    On Flywheel Instance {fw.get_config().site.api_url}\n",
    "'''\n",
    "\n",
    "import os\n",
    "import argparse\n",
    "from datetime import datetime\n",
    "\n",
    "\n",
    "import flywheel\n",
    "\n",
    "\n",
    "input_files = {pprint.pformat(input_files)}\n",
    "\n",
    "def main(fw):\n",
    "\n",
    "    gear = fw.lookup(\"gears/{gear.gear.name}\")\n",
    "    print(\"gear.gear.version for job was = {gear.gear.version}\")\"\"\"\n",
    "\n",
    "    sfp = open(script_name, \"w\")\n",
    "    for line in lines.split(\"\\n\"):\n",
    "        sfp.write(line + \"\\n\")\n",
    "\n",
    "    sfp.write('    print(f\"gear.gear.version now = {gear.gear.version}\")\\n')\n",
    "    sfp.write(f'    print(\"destination_id = {destination_id}\")\\n')\n",
    "    sfp.write(f'    print(\"destination type is: {destination_type}\")\\n')\n",
    "\n",
    "    sfp.write(f'    destination = fw.lookup(\"{container_path}\")\\n')\n",
    "\n",
    "    sfp.write(\"\\n\")\n",
    "    sfp.write(\"    inputs = dict()\\n\")\n",
    "    sfp.write(\"    for key, val in input_files.items():\\n\")\n",
    "    sfp.write(\"         container = fw.get(val['hierarchy_id'])\\n\")\n",
    "    sfp.write(\"         inputs[key] = container.get_file(val['location_name'])\\n\")\n",
    "    sfp.write(\"\\n\")\n",
    "    sfp.write(f\"    config = {pprint.pformat(job['config']['config'], indent=4)}\\n\")\n",
    "    sfp.write(\"\\n\")\n",
    "\n",
    "    if job.destination.type == \"analysis\":\n",
    "        sfp.write(\"    now = datetime.now()\\n\")\n",
    "        sfp.write(\"    analysis_label = (\\n\")\n",
    "        sfp.write(\n",
    "            \"        f'{gear.gear.name} {now.strftime(\\\"%m-%d-%Y %H:%M:%S\\\")} SDK launched'\\n\"\n",
    "        )\n",
    "        sfp.write(\"    )\\n\")\n",
    "        sfp.write(\"    print(f'analysis_label = {analysis_label}')\\n\")\n",
    "\n",
    "        lines = f\"\"\"\n",
    "    analysis_id = gear.run(\n",
    "        analysis_label=analysis_label,\n",
    "        config=config,\n",
    "        inputs=inputs,\n",
    "        destination=destination,\n",
    "    )\"\"\"\n",
    "        for line in lines.split(\"\\n\"):\n",
    "            sfp.write(line + \"\\n\")\n",
    "        sfp.write(\"    print(f'analysis_id = {analysis_id}')\\n\")\n",
    "        sfp.write(\"    return analysis_id\\n\")\n",
    "\n",
    "    else:\n",
    "        lines = f\"\"\"\n",
    "    job_id = gear.run(\n",
    "        config=config,\n",
    "        inputs=inputs,\n",
    "        destination=destination\n",
    "    )\"\"\"\n",
    "        for line in lines.split(\"\\n\"):\n",
    "            sfp.write(line + \"\\n\")\n",
    "        sfp.write(\"    print(f'job_id = {job_id}')\\n\")\n",
    "        sfp.write(\"    return job_id\\n\")\n",
    "\n",
    "    lines = f\"\"\"\n",
    "if __name__ == '__main__':\n",
    "\n",
    "    parser = argparse.ArgumentParser(description=__doc__)\n",
    "    args = parser.parse_args()\n",
    "\n",
    "    fw = flywheel.Client('')\n",
    "    print(fw.get_config().site.api_url)\n",
    "\n",
    "    analysis_id = main(fw)\"\"\"\n",
    "\n",
    "    for line in lines.split(\"\\n\"):\n",
    "        sfp.write(line + \"\\n\")\n",
    "\n",
    "    sfp.write(\"\\n\")\n",
    "    sfp.write(\"    os.sys.exit(0)\\n\")\n",
    "\n",
    "    sfp.close()\n",
    "\n",
    "    os.system(f\"black {script_name}\")\n",
    "\n",
    "    st = os.stat(script_name)\n",
    "    os.chmod(script_name, st.st_mode | stat.S_IEXEC)"
   ]
  },
  {
   "cell_type": "markdown",
   "metadata": {},
   "source": [
    "## Utility Job, destination type is: acquisition"
   ]
  },
  {
   "cell_type": "code",
   "execution_count": 29,
   "metadata": {},
   "outputs": [
    {
     "name": "stdout",
     "output_type": "stream",
     "text": [
      "Job ID 60817598fb84816baf6f3572\n",
      "gear.gear.name is dcm2niix\n",
      "job's destination_id is 60798ec6c5a368b6b66f3475 type acquisition\n",
      "new job's destination is 4 - fmap-SE-PA type acquisition\n",
      "Group id: bids-curation-tests\n",
      "Project label: Levitas_Tutorial\n",
      "container_path: bids-curation-tests/Levitas_Tutorial/10462@thwjames_OpenScience/2020-01-22 14_29_46/4 - fmap-SE-PA\n",
      "Creating script: Levitas_Tutorial_acquisition_4_-_fmap-SE-PA.py ...\n",
      "\n"
     ]
    }
   ],
   "source": [
    "write_script_to_run_job(job_id=\"60817598fb84816baf6f3572\")"
   ]
  },
  {
   "cell_type": "markdown",
   "metadata": {},
   "source": [
    "## Utility Job, destination type is: session"
   ]
  },
  {
   "cell_type": "code",
   "execution_count": 25,
   "metadata": {},
   "outputs": [
    {
     "name": "stdout",
     "output_type": "stream",
     "text": [
      "Job ID 60817898f4a3a2bb836f35ca\n",
      "gear.gear.name is curate-bids\n",
      "job's destination_id is 60798ec5c5a368b6b66f3467 type session\n",
      "new job's destination is 2020-01-22 14_29_46 type session\n",
      "Group id: bids-curation-tests\n",
      "Project label: Levitas_Tutorial\n",
      "container_path: bids-curation-tests/Levitas_Tutorial/10462@thwjames_OpenScience/2020-01-22 14_29_46\n",
      "Creating script: Levitas_Tutorial_session_2020-01-22_14_29_46.py ...\n",
      "\n"
     ]
    }
   ],
   "source": [
    "write_script_to_run_job(job_id=\"60817898f4a3a2bb836f35ca\")"
   ]
  },
  {
   "cell_type": "code",
   "execution_count": 18,
   "metadata": {},
   "outputs": [
    {
     "data": {
      "text/plain": [
       "\u001b[0;31mSignature:\u001b[0m\n",
       "\u001b[0mgear\u001b[0m\u001b[0;34m.\u001b[0m\u001b[0mrun\u001b[0m\u001b[0;34m(\u001b[0m\u001b[0;34m\u001b[0m\n",
       "\u001b[0;34m\u001b[0m    \u001b[0mconfig\u001b[0m\u001b[0;34m=\u001b[0m\u001b[0;32mNone\u001b[0m\u001b[0;34m,\u001b[0m\u001b[0;34m\u001b[0m\n",
       "\u001b[0;34m\u001b[0m    \u001b[0manalysis_label\u001b[0m\u001b[0;34m=\u001b[0m\u001b[0;32mNone\u001b[0m\u001b[0;34m,\u001b[0m\u001b[0;34m\u001b[0m\n",
       "\u001b[0;34m\u001b[0m    \u001b[0mtags\u001b[0m\u001b[0;34m=\u001b[0m\u001b[0;32mNone\u001b[0m\u001b[0;34m,\u001b[0m\u001b[0;34m\u001b[0m\n",
       "\u001b[0;34m\u001b[0m    \u001b[0mdestination\u001b[0m\u001b[0;34m=\u001b[0m\u001b[0;32mNone\u001b[0m\u001b[0;34m,\u001b[0m\u001b[0;34m\u001b[0m\n",
       "\u001b[0;34m\u001b[0m    \u001b[0minputs\u001b[0m\u001b[0;34m=\u001b[0m\u001b[0;32mNone\u001b[0m\u001b[0;34m,\u001b[0m\u001b[0;34m\u001b[0m\n",
       "\u001b[0;34m\u001b[0m    \u001b[0;34m**\u001b[0m\u001b[0mkwargs\u001b[0m\u001b[0;34m,\u001b[0m\u001b[0;34m\u001b[0m\n",
       "\u001b[0;34m\u001b[0m\u001b[0;34m)\u001b[0m\u001b[0;34m\u001b[0m\u001b[0;34m\u001b[0m\u001b[0m\n",
       "\u001b[0;31mDocstring:\u001b[0m\n",
       "Run the gear.\n",
       "\n",
       ":param dict config: The configuration to use, if overriding defaults.\n",
       ":param str analysis_label: The label of the analysis, if running an analysis gear.\n",
       ":param list tags: The list of tags to set for the job.\n",
       ":param object destination: The destination container.\n",
       ":param dict inputs: The list of input containers or files.\n",
       "\n",
       ":return: The id of the job that was created\n",
       "\u001b[0;31mFile:\u001b[0m      /usr/local/lib/python3.9/site-packages/flywheel/models/gear_mixin.py\n",
       "\u001b[0;31mType:\u001b[0m      method\n"
      ]
     },
     "metadata": {},
     "output_type": "display_data"
    }
   ],
   "source": [
    "gear.run?"
   ]
  },
  {
   "cell_type": "markdown",
   "metadata": {},
   "source": [
    "## Analysis Job, destination type is: project"
   ]
  },
  {
   "cell_type": "code",
   "execution_count": 26,
   "metadata": {},
   "outputs": [
    {
     "name": "stdout",
     "output_type": "stream",
     "text": [
      "Job ID 603fb4ab146a36499c6e8aca\n",
      "gear.gear.name is bids-app-template\n",
      "job's destination_id is 603fb4ab146a36499c6e8ac9 type analysis\n",
      "job's analysis's parent id is 602ed7b21c5936816883e901 type project\n",
      "new job's destination is BIDS_multi_session type project\n",
      "Group id: scien\n",
      "Project label: BIDS_multi_session\n",
      "container_path: scien/BIDS_multi_session\n",
      "Creating script: BIDS_multi_session_project_BIDS_multi_session.py ...\n",
      "\n"
     ]
    }
   ],
   "source": [
    "write_script_to_run_job(job_id=\"603fb4ab146a36499c6e8aca\")"
   ]
  },
  {
   "cell_type": "markdown",
   "metadata": {},
   "source": [
    "## Analysis Job, destination type is: session"
   ]
  },
  {
   "cell_type": "code",
   "execution_count": 27,
   "metadata": {},
   "outputs": [
    {
     "name": "stdout",
     "output_type": "stream",
     "text": [
      "Job ID 603fb0c775f2cd6a236e8ab5\n",
      "gear.gear.name is bids-app-template\n",
      "job's destination_id is 603fb0c775f2cd6a236e8ab4 type analysis\n",
      "job's analysis's parent id is 602ed812abe32939b783e910 type session\n",
      "new job's destination is ses-Session2 type session\n",
      "Group id: scien\n",
      "Project label: BIDS_multi_session\n",
      "container_path: scien/BIDS_multi_session/sub-TOME3024/ses-Session2\n",
      "Creating script: BIDS_multi_session_session_ses-Session2.py ...\n",
      "\n"
     ]
    }
   ],
   "source": [
    "write_script_to_run_job(job_id=\"603fb0c775f2cd6a236e8ab5\")"
   ]
  },
  {
   "cell_type": "markdown",
   "metadata": {},
   "source": [
    "## Analysis Job, destination type is: subject"
   ]
  },
  {
   "cell_type": "code",
   "execution_count": 28,
   "metadata": {},
   "outputs": [
    {
     "name": "stdout",
     "output_type": "stream",
     "text": [
      "Job ID 603fb4f225960896416e8ab6\n",
      "gear.gear.name is bids-app-template\n",
      "job's destination_id is 603fb4f225960896416e8ab5 type analysis\n",
      "job's analysis's parent id is 602ed7bcabe32939b783e906 type subject\n",
      "new job's destination is sub-TOME3024 type subject\n",
      "Group id: scien\n",
      "Project label: BIDS_multi_session\n",
      "container_path: scien/BIDS_multi_session/sub-TOME3024\n",
      "Creating script: BIDS_multi_session_subject_sub-TOME3024.py ...\n",
      "\n"
     ]
    }
   ],
   "source": [
    "write_script_to_run_job(job_id=\"603fb4f225960896416e8ab6\")"
   ]
  }
 ],
 "metadata": {
  "kernelspec": {
   "display_name": "Python 3",
   "language": "python",
   "name": "python3"
  },
  "language_info": {
   "codemirror_mode": {
    "name": "ipython",
    "version": 3
   },
   "file_extension": ".py",
   "mimetype": "text/x-python",
   "name": "python",
   "nbconvert_exporter": "python",
   "pygments_lexer": "ipython3",
   "version": "3.9.0"
  }
 },
 "nbformat": 4,
 "nbformat_minor": 4
}
