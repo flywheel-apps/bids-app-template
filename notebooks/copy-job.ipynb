{
 "cells": [
  {
   "cell_type": "markdown",
   "metadata": {},
   "source": [
    "# Copy an analysis job from a Flywheel Instance"
   ]
  },
  {
   "cell_type": "markdown",
   "metadata": {},
   "source": [
    "Given the ID of a Flywheel job, this will create a python script to re-run it.  You can then edit and run that script.\n",
    "\n",
    "The cell below will get a Flywheel client if you are logged in to a Flywheel instance.  It prints out the URL of the instance so you know where you are logged in."
   ]
  },
  {
   "cell_type": "code",
   "execution_count": null,
   "metadata": {},
   "outputs": [],
   "source": [
    "import os\n",
    "import stat\n",
    "import pprint\n",
    "from datetime import datetime\n",
    "\n",
    "import flywheel\n",
    "fw = flywheel.Client('')\n",
    "fw.get_config().site.api_url"
   ]
  },
  {
   "cell_type": "code",
   "execution_count": null,
   "metadata": {},
   "outputs": [],
   "source": [
    "def write_script_to_run_job(job_id):\n",
    "    \n",
    "    job = fw.get_job(job_id)\n",
    "    gear = fw.get_gear(job.gear_id)\n",
    "    print(f\"gear.gear.name is {gear.gear.name}\")\n",
    "    destination_id = job.config[\"destination\"][\"id\"]\n",
    "    print(f\"job's analysis destination_id is {destination_id}\")\n",
    "    analysis = fw.get_analysis(destination_id)\n",
    "    print(f\"job's analysis's parent's type is {analysis.parent['type']}\")\n",
    "    project_id = analysis.parents[\"project\"]\n",
    "    project = fw.get_project(project_id)\n",
    "    project_label = project.label\n",
    "    print(f\"Project label: {project.label}\")\n",
    "    destination = fw.get(analysis.parent[\"id\"])\n",
    "    print(f\"job's destination is {destination.label}\")\n",
    "    script_name = f\"{project_label}_{analysis.parent['type']}_{destination.label}.py\"\n",
    "    script_name = script_name.replace(\" \", \"_\")\n",
    "    print(f\"Creating script: {script_name} ...\\n\")\n",
    "\n",
    "    input_files = dict()\n",
    "    for key, val in job.config.get(\"inputs\").items():\n",
    "        input_files[key] = {\n",
    "            \"hierarchy_id\": val[\"hierarchy\"][\"id\"],\n",
    "            \"location_name\": val[\"location\"][\"name\"],\n",
    "        }\n",
    "    \n",
    "    lines = f\"\"\"#! /usr/bin/env python3\n",
    "'''Run {gear.gear.name} on {analysis.parent['type']} \"{destination.label}\"\n",
    "\n",
    "    This script was created to run Job ID {job_id}\n",
    "    In project \"{project_label}\"\n",
    "    On Flywheel Instance {fw.get_config().site.api_url}\n",
    "'''\n",
    "\n",
    "import os\n",
    "import argparse\n",
    "from datetime import datetime\n",
    "\n",
    "\n",
    "import flywheel\n",
    "\n",
    "\n",
    "input_files = {pprint.pformat(input_files)}\n",
    "\n",
    "\n",
    "def main():\n",
    "\n",
    "    fw = flywheel.Client('')\n",
    "    print(fw.get_config().site.api_url)\n",
    "\n",
    "    gear = fw.lookup(\"gears/{gear.gear.name}\")\n",
    "    print(\"gear.gear.version for job was = {gear.gear.version}\")\"\"\"\n",
    "\n",
    "    with open(script_name, \"w\") as sfp:\n",
    "        for line in lines.split(\"\\n\"):\n",
    "            sfp.write(line + \"\\n\")\n",
    "        sfp.write(\"    print(f\\\"gear.gear.version now = {gear.gear.version}\\\")\\n\")\n",
    "        sfp.write(f\"    print(\\\"destination_id = {analysis.parent['id']}\\\")\\n\")\n",
    "        sfp.write(f\"    print(\\\"destination type is: {analysis.parent['type']}\\\")\\n\")\n",
    "        sfp.write(f\"    destination = fw.get(\\\"{analysis.parent['id']}\\\")\\n\")\n",
    "        sfp.write(\"\\n\")\n",
    "        sfp.write(\"    inputs = dict()\\n\")\n",
    "        sfp.write(f\"    for key, val in input_files.items():\\n\")\n",
    "        sfp.write(\"         container = fw.get(val['hierarchy_id'])\\n\")\n",
    "        sfp.write(\"         inputs[key] = container.get_file(val['location_name'])\\n\")\n",
    "        sfp.write(\"\\n\")\n",
    "        sfp.write(f\"    config = {pprint.pformat(job['config']['config'], indent=4)}\\n\")\n",
    "        sfp.write(\"\\n\")\n",
    "        sfp.write(\"    now = datetime.now()\\n\")\n",
    "        sfp.write(\"    analysis_label = (\\n\")\n",
    "        sfp.write(\"        f'{gear.gear.name} {now.strftime(\\\"%m-%d-%Y %H:%M:%S\\\")} SDK launched'\\n\")\n",
    "        sfp.write(\"    )\\n\")\n",
    "        sfp.write(\"    print(f\\\"analysis_label = {analysis_label}\\\")\\n\")\n",
    "        sfp.write(\"\\n\")\n",
    "        sfp.write(\"    analysis_id = gear.run(\\n\")\n",
    "        sfp.write(\"        analysis_label=analysis_label,\\n\")\n",
    "        sfp.write(\"        config=config,\\n\")\n",
    "        sfp.write(\"        inputs=inputs,\\n\")\n",
    "        sfp.write(\"        destination=destination,\\n\")\n",
    "        sfp.write(\"    )\\n\")\n",
    "        sfp.write(\"    return analysis_id\\n\")\n",
    "        sfp.write(\"\\n\")\n",
    "        sfp.write(\"\\n\")\n",
    "        sfp.write(\"if __name__ == '__main__':\\n\")\n",
    "        sfp.write(\"\\n\")\n",
    "        sfp.write(\"    parser = argparse.ArgumentParser(description=__doc__)\\n\")\n",
    "        sfp.write(\"    args = parser.parse_args()\\n\")\n",
    "        sfp.write(\"\\n\")\n",
    "        sfp.write(\"    analysis_id = main()\\n\")\n",
    "        sfp.write(\"\\n\")\n",
    "        sfp.write(\"    print(f\\\"analysis_id = {analysis_id}\\\")\\n\")\n",
    "        sfp.write(\"\\n\")\n",
    "        sfp.write(\"    os.sys.exit(0)\\n\")\n",
    "\n",
    "    os.system(f\"black {script_name}\")\n",
    "\n",
    "    st = os.stat(script_name)\n",
    "    os.chmod(script_name, st.st_mode | stat.S_IEXEC)"
   ]
  },
  {
   "cell_type": "markdown",
   "metadata": {},
   "source": [
    "Get the job ID from the URL when you select the job of interest in the \"Jobs Log\" in the Flywheel UI."
   ]
  },
  {
   "cell_type": "code",
   "execution_count": null,
   "metadata": {},
   "outputs": [],
   "source": [
    "write_script_to_run_job(\"60215de3c302777224238db3\")"
   ]
  }
 ],
 "metadata": {
  "kernelspec": {
   "display_name": "Python 3",
   "language": "python",
   "name": "python3"
  },
  "language_info": {
   "codemirror_mode": {
    "name": "ipython",
    "version": 3
   },
   "file_extension": ".py",
   "mimetype": "text/x-python",
   "name": "python",
   "nbconvert_exporter": "python",
   "pygments_lexer": "ipython3",
   "version": "3.9.0"
  }
 },
 "nbformat": 4,
 "nbformat_minor": 4
}
